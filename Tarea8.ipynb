{
 "cells": [
  {
   "cell_type": "markdown",
   "metadata": {},
   "source": [
    "__Ejercicio 1__. Escribe una función `derivadaNumerica` que\n",
    "reciba: una función $f\\colon \\mathbb{R}\\mapsto\\mathbb{R}$,\n",
    "un punto $x_0\\in\\mathbb{R}$ y un número $h\\in\\mathbb{R}$. Esta función deberá calcular una aproximación a la\n",
    "derivada utilizando la definición indicada arriba ignorando\n",
    "la parte del límite. Es decir, algo como: `derivada_numerica(f,x,h)`."
   ]
  },
  {
   "cell_type": "code",
   "execution_count": 1,
   "metadata": {
    "collapsed": true
   },
   "outputs": [],
   "source": [
    "function derivadaNumerica(f,x0,h) #función, punto inicial, incremento \n",
    "    derivada=(f(x0+h)-f(x0))/h\n",
    "    return derivada\n",
    "    end;"
   ]
  },
  {
   "cell_type": "code",
   "execution_count": 2,
   "metadata": {},
   "outputs": [
    {
     "data": {
      "text/plain": [
       "f (generic function with 1 method)"
      ]
     },
     "execution_count": 2,
     "metadata": {},
     "output_type": "execute_result"
    }
   ],
   "source": [
    "f(x)=x^2"
   ]
  },
  {
   "cell_type": "code",
   "execution_count": 3,
   "metadata": {},
   "outputs": [
    {
     "data": {
      "text/plain": [
       "6.009999999999849"
      ]
     },
     "execution_count": 3,
     "metadata": {},
     "output_type": "execute_result"
    }
   ],
   "source": [
    "derivadaNumerica(f,3,0.01)"
   ]
  },
  {
   "cell_type": "markdown",
   "metadata": {
    "collapsed": true
   },
   "source": [
    "__Ejercicio 7:__ Explotar la relación $\\delta_h=\\Delta_h-\\Delta_{-h}$, donde $\\delta_h:f(x)\\mapsto f(x+h)-f(x-h)$, para encontrar cual es la función $\\theta$ que relaciona a $\\delta_h$ con el operador derivada exacta, es decir:\n",
    "$$\\delta_h=\\theta\\left(h\\left. \\frac{d}{d\\xi}\\right|_{\\xi=x}\\right).$$\n",
    "\n",
    "Una vez que la encuentren, despejen $\\left. \\frac{d}{d\\xi}\\right|_{\\xi=x}$ y calculen la serie de Taylor de mánera similar a lo mostrado en las ecuaciones 3 y 4."
   ]
  },
  {
   "cell_type": "markdown",
   "metadata": {},
   "source": [
    "Primero tenemos que $\\delta_h=\\Delta_h-\\Delta_{-h}$  \n",
    "Luego sabemos que $\\Delta_h = f(x+h)-f(x) $ y que $\\Delta_{-h} = f(x-h)-f(x) $\n",
    "Entonces $\\delta_h=\\Delta_h-\\Delta_{-h} = f(x+h)-f(x)-f(x-h)+f(x)$  \n",
    "Teniendo $$\\delta_h=f(x+h)-f(x+h)$$\n",
    "\n",
    "Ya sabemos que para $\\Delta_h= e^{h\\left.\\frac{d}{d\\xi}\\right|_{\\xi=x}} -1$ entonces para $\\Delta_{-h}= e^{-h\\left.\\frac{d}{d\\xi}\\right|_{\\xi=x}} -1$\n",
    "\n",
    "Sustituyendo los valores tendremos $$\\delta_h=e^{h\\left.\\frac{d}{d\\xi}\\right|_{\\xi=x}} -1 -e^{-h\\left.\\frac{d}{d\\xi}\\right|_{\\xi=x}} +1$$\n",
    "$$\\delta_h=e^{h\\left.\\frac{d}{d\\xi}\\right|_{\\xi=x}}-e^{-h\\left.\\frac{d}{d\\xi}\\right|_{\\xi=x}}$$\n",
    "Utlizando identidades de funciones hiperbólicas, multiplicando por un $1= \\frac{2}{2}$\n",
    "$$\\delta_h=2(\\frac{e^{h\\left.\\frac{d}{d\\xi}\\right|_{\\xi=x}}-e^{-h\\left.\\frac{d}{d\\xi}\\right|_{\\xi=x}}}{2})$$\n",
    "$$\\delta_h=2sinh(h\\left.\\frac{d}{d\\xi}\\right|_{\\xi=x})$$\n",
    "\n",
    "$$\\frac{\\delta_h}{2}=sinh(h\\left.\\frac{d}{d\\xi}\\right|_{\\xi=x})$$\n",
    "\n",
    "$$sinh^{-1}\\frac{\\delta_h}{2}=h\\left.\\frac{d}{d\\xi}\\right|_{\\xi=x}$$\n",
    "\n",
    "$$\\frac{sinh^{-1}\\frac{\\delta_h}{2}}{h}=\\left.\\frac{d}{d\\xi}\\right|_{\\xi=x} $$"
   ]
  }
 ],
 "metadata": {
  "kernelspec": {
   "display_name": "Julia 0.6.0",
   "language": "julia",
   "name": "julia-0.6"
  },
  "language_info": {
   "file_extension": ".jl",
   "mimetype": "application/julia",
   "name": "julia",
   "version": "0.6.0"
  }
 },
 "nbformat": 4,
 "nbformat_minor": 2
}
