{
 "cells": [
  {
   "cell_type": "markdown",
   "metadata": {
    "collapsed": true
   },
   "source": [
    "### Método de Simpson"
   ]
  },
  {
   "cell_type": "markdown",
   "metadata": {},
   "source": [
    "$$ \\int_{a}^{b} f(x) \\, dx \\approx \\tfrac{b-a}{6}\\left[f(a) + 4f\\left(\\tfrac{a+b}{2}\\right)+f(b)\\right], $$\n"
   ]
  },
  {
   "cell_type": "markdown",
   "metadata": {},
   "source": [
    "__Ejercicio 3:__ Implementar método de Simpson de la misma forma que el ejercicio anterior."
   ]
  },
  {
   "cell_type": "code",
   "execution_count": 1,
   "metadata": {
    "collapsed": true
   },
   "outputs": [],
   "source": [
    "function integralSimpson(f,a,b,n)\n",
    "    h = (b-a)/n # se separarán nuestros intervalos un valor h\n",
    "    x=zeros(1,n) # aquí se guardarán los nuevos valores de los segmentos\n",
    "    x[1]=a\n",
    "    integral=0.0\n",
    "    for i in 2:n # empezamos en 2 ya que el elemento 1 se anexo arriba\n",
    "        x[i]=x[i-1] + h\n",
    "        #aplicamos el método de Simpson\n",
    "        integral=integral + ((x[i]-x[i-1])/6)*(f(x[i-1])+4*f((x[i-1]+x[i])/2)+f(x[i]))\n",
    "    end\n",
    "    integral\n",
    "end\n",
    ";"
   ]
  },
  {
   "cell_type": "code",
   "execution_count": 2,
   "metadata": {},
   "outputs": [
    {
     "data": {
      "text/plain": [
       "f (generic function with 1 method)"
      ]
     },
     "execution_count": 2,
     "metadata": {},
     "output_type": "execute_result"
    }
   ],
   "source": [
    "f(x)=x^3-4x^2"
   ]
  },
  {
   "cell_type": "markdown",
   "metadata": {},
   "source": [
    "El valor exacto de la integral de esa función en un intervalo de $[0,3]$ es $\\frac {-63}{4} = -15.75$"
   ]
  },
  {
   "cell_type": "code",
   "execution_count": 3,
   "metadata": {},
   "outputs": [
    {
     "data": {
      "text/plain": [
       "-15.478694797499957"
      ]
     },
     "execution_count": 3,
     "metadata": {},
     "output_type": "execute_result"
    }
   ],
   "source": [
    "integralSimpson(f,0.0,3.0,100)"
   ]
  },
  {
   "cell_type": "markdown",
   "metadata": {},
   "source": [
    "## Ejercicio 4: \n",
    "Implementar método de interpolación de Lagrange en Julia. La función deberá recibir la lista de puntos $(x_k,y_k)$ y el lugar donde evaluamos el polinomio, note que es particularmente útil si los inputs son las listas de las $x$'s y de las $y$'s separadamente, es decir, de la misma forma en como la función plot recibe los argumentos; esto servira para verificar nuestros resultados. EJ.: Interpolador(listx,listy,x).\n",
    "\n"
   ]
  },
  {
   "cell_type": "markdown",
   "metadata": {},
   "source": [
    "__Tip:__ Pueden hacer separadamente la rutina para $l_j(x)$, luego la de $L(x)$ utilizando la rutina que ya tenemos para $l_j(x)$. Por Ej: `funciondelabase(j,listx,x)`, donde $x$ es el lugar donde evaluamos la función interpoladora."
   ]
  },
  {
   "cell_type": "code",
   "execution_count": 4,
   "metadata": {
    "collapsed": true
   },
   "outputs": [],
   "source": [
    "using SymPy"
   ]
  },
  {
   "cell_type": "code",
   "execution_count": 5,
   "metadata": {},
   "outputs": [
    {
     "data": {
      "text/plain": [
       "interpolacion_Lagrange (generic function with 1 method)"
      ]
     },
     "execution_count": 5,
     "metadata": {},
     "output_type": "execute_result"
    }
   ],
   "source": [
    "X=Sym(\"X\")\n",
    "function interpolacion_Lagrange(x,y,X)     # la lista de las x, la lista de las y y el punto simbólico X\n",
    "    X=Sym(\"X\")   \n",
    "    n=length(x)  #número de elementos en las listas\n",
    "    L = 0           \n",
    "    for j in 1:n    \n",
    "        p_numerador=1   \n",
    "        p_denominador=1 \n",
    "        for i in 1:n  \n",
    "            if j !== i   \n",
    "          #condición importante para las multiplicaciones  del numerador y el denominador\n",
    "            p_numerador = p_numerador*(X-x[i])\n",
    "            p_denominador = p_denominador*(x[j]-x[i])\n",
    "            end\n",
    "        end\n",
    "    L = L + (p_numerador/p_denominador)*y[j]  #se van sumando a L el producto de la base polinomial de Lagrange \n",
    "    L=simplify(L)    \n",
    "end \n",
    "L  #va a mostrar el método de interpolación de Lagrange   \n",
    "end"
   ]
  },
  {
   "cell_type": "markdown",
   "metadata": {
    "collapsed": true
   },
   "source": [
    "Interpole las funciones $\\cos(x)$, tomando un arreglo de $10$ puntos distribuidos uniformemente dentro del dominio $[0,2 \\pi]$, donde el primer punto sea $0$ y el último $2\\pi$. Grafique los puntos a interpolar y la funcion interpoladora."
   ]
  },
  {
   "cell_type": "code",
   "execution_count": 6,
   "metadata": {},
   "outputs": [
    {
     "data": {
      "text/plain": [
       "10-element Array{Float64,1}:\n",
       "  1.0     \n",
       "  0.766044\n",
       "  0.173648\n",
       " -0.5     \n",
       " -0.939693\n",
       " -0.939693\n",
       " -0.5     \n",
       "  0.173648\n",
       "  0.766044\n",
       "  1.0     "
      ]
     },
     "execution_count": 6,
     "metadata": {},
     "output_type": "execute_result"
    }
   ],
   "source": [
    "x=linspace(0.0,2*pi,10.0) #tomamos los 10 puntos\n",
    "y=cos.(x)  #los puntos y, dependen de los x"
   ]
  },
  {
   "cell_type": "code",
   "execution_count": 7,
   "metadata": {},
   "outputs": [
    {
     "data": {
      "text/latex": [
       "$$6.83047368665868 \\cdot 10^{-18} X^{9} - 1.9797933636022 \\cdot 10^{-5} X^{8} + 0.000497576342935509 X^{7} - 0.00411366974808167 X^{6} + 0.00878850466173803 X^{5} + 0.0243778891541633 X^{4} + 0.0201425548286519 X^{3} - 0.51254334976388 X^{2} + 0.00313254720752185 X + 1.0$$"
      ],
      "text/plain": [
       "                      9                       8                         7     \n",
       "6.83047368665868e-18*X  - 1.9797933636022e-5*X  + 0.000497576342935509*X  - 0.\n",
       "\n",
       "                   6                        5                       4         \n",
       "00411366974808167*X  + 0.00878850466173803*X  + 0.0243778891541633*X  + 0.0201\n",
       "\n",
       "              3                     2                              \n",
       "425548286519*X  - 0.51254334976388*X  + 0.00313254720752185*X + 1.0"
      ]
     },
     "execution_count": 7,
     "metadata": {},
     "output_type": "execute_result"
    }
   ],
   "source": [
    "#obtenemos el polinomio de interpolación\n",
    "interpolacion_Lagrange(x,y,X)"
   ]
  },
  {
   "cell_type": "code",
   "execution_count": 32,
   "metadata": {},
   "outputs": [
    {
     "data": {
      "text/plain": [
       "100-element Array{Float64,1}:\n",
       " 1.0     \n",
       " 0.957281\n",
       " 0.924683\n",
       " 0.897247\n",
       " 0.87118 \n",
       " 0.843699\n",
       " 0.812886\n",
       " 0.777561\n",
       " 0.737157\n",
       " 0.691614\n",
       " 0.64128 \n",
       " 0.586824\n",
       " 0.529154\n",
       " ⋮       \n",
       " 0.586824\n",
       " 0.64128 \n",
       " 0.691614\n",
       " 0.737157\n",
       " 0.777561\n",
       " 0.812886\n",
       " 0.843699\n",
       " 0.87118 \n",
       " 0.897247\n",
       " 0.924683\n",
       " 0.957281\n",
       " 1.0     "
      ]
     },
     "execution_count": 32,
     "metadata": {},
     "output_type": "execute_result"
    }
   ],
   "source": [
    "interpolar=lambdify(interpolacion_Lagrange(x,y,X)) \n",
    "#pasamos a una función de Julia para poder graficar\n",
    "\n",
    "listax = linspace(0,2pi,100)\n",
    "listay = interpolar(listax)"
   ]
  },
  {
   "cell_type": "code",
   "execution_count": 9,
   "metadata": {
    "collapsed": true
   },
   "outputs": [],
   "source": [
    "using PyPlot"
   ]
  },
  {
   "cell_type": "code",
   "execution_count": 10,
   "metadata": {},
   "outputs": [
    {
     "data": {
      "image/png": "[encoded data removed]",
      "text/plain": [
       "PyPlot.Figure(PyObject <matplotlib.figure.Figure object at 0x127a01b90>)"
      ]
     },
     "metadata": {},
     "output_type": "display_data"
    }
   ],
   "source": [
    "title(\"Interpolación cos(x)\")\n",
    "scatter(x,y)\n",
    "plot(listax,listay)\n",
    "show()"
   ]
  },
  {
   "cell_type": "markdown",
   "metadata": {},
   "source": [
    "Interpole las funciones $\\cos^2(x)$ , tomando un arreglo de $10$ puntos distribuidos uniformemente dentro del dominio $[0,2 \\pi]$, donde el primer punto sea $0$ y el último $2\\pi$. Grafique los puntos a interpolar y la funcion interpoladora."
   ]
  },
  {
   "cell_type": "code",
   "execution_count": 11,
   "metadata": {
    "collapsed": true
   },
   "outputs": [],
   "source": [
    "function coseno_2(x)\n",
    "    cos(x)*cos(x)\n",
    "    end;"
   ]
  },
  {
   "cell_type": "code",
   "execution_count": 12,
   "metadata": {},
   "outputs": [
    {
     "data": {
      "text/plain": [
       "10-element Array{Float64,1}:\n",
       " 1.0      \n",
       " 0.586824 \n",
       " 0.0301537\n",
       " 0.25     \n",
       " 0.883022 \n",
       " 0.883022 \n",
       " 0.25     \n",
       " 0.0301537\n",
       " 0.586824 \n",
       " 1.0      "
      ]
     },
     "execution_count": 12,
     "metadata": {},
     "output_type": "execute_result"
    }
   ],
   "source": [
    "# obtenemos el arreglo de los 10 puntos \n",
    "x=linspace(0,2pi,10)\n",
    "y=coseno_2.(x)"
   ]
  },
  {
   "cell_type": "code",
   "execution_count": 13,
   "metadata": {},
   "outputs": [
    {
     "data": {
      "text/latex": [
       "$$- 4.66206934168767 \\cdot 10^{-18} X^{9} + 0.00125598518133163 X^{8} - 0.031566350549511 X^{7} + 0.313492883032336 X^{6} - 1.54753813738561 X^{5} + 3.89900431361713 X^{4} - 4.56959608798489 X^{3} + 2.02232704563067 X^{2} - 0.784017877200963 X + 1.0$$"
      ],
      "text/plain": [
       "                        9                        8                      7     \n",
       "- 4.66206934168767e-18*X  + 0.00125598518133163*X  - 0.031566350549511*X  + 0.\n",
       "\n",
       "                 6                     5                     4                \n",
       "313492883032336*X  - 1.54753813738561*X  + 3.89900431361713*X  - 4.56959608798\n",
       "\n",
       "     3                     2                            \n",
       "489*X  + 2.02232704563067*X  - 0.784017877200963*X + 1.0"
      ]
     },
     "execution_count": 13,
     "metadata": {},
     "output_type": "execute_result"
    }
   ],
   "source": [
    "#sacamos el polinomio de interpolación\n",
    "interpolacion_Lagrange(x,y,X)"
   ]
  },
  {
   "cell_type": "code",
   "execution_count": 33,
   "metadata": {},
   "outputs": [
    {
     "data": {
      "text/plain": [
       "100-element Array{Float64,1}:\n",
       " 1.0     \n",
       " 0.957281\n",
       " 0.924683\n",
       " 0.897247\n",
       " 0.87118 \n",
       " 0.843699\n",
       " 0.812886\n",
       " 0.777561\n",
       " 0.737157\n",
       " 0.691614\n",
       " 0.64128 \n",
       " 0.586824\n",
       " 0.529154\n",
       " ⋮       \n",
       " 0.586824\n",
       " 0.64128 \n",
       " 0.691614\n",
       " 0.737157\n",
       " 0.777561\n",
       " 0.812886\n",
       " 0.843699\n",
       " 0.87118 \n",
       " 0.897247\n",
       " 0.924683\n",
       " 0.957281\n",
       " 1.0     "
      ]
     },
     "execution_count": 33,
     "metadata": {},
     "output_type": "execute_result"
    }
   ],
   "source": [
    "interpolar1=lambdify(interpolacion_Lagrange(x,y,X))\n",
    "lista1x=linspace(0,2pi,100)\n",
    "lista1y=interpolar1(lista1x)"
   ]
  },
  {
   "cell_type": "code",
   "execution_count": 15,
   "metadata": {},
   "outputs": [
    {
     "data": {
      "image/png": "[encoded data removed]",
      "text/plain": [
       "PyPlot.Figure(PyObject <matplotlib.figure.Figure object at 0x127cafb90>)"
      ]
     },
     "metadata": {},
     "output_type": "display_data"
    }
   ],
   "source": [
    "title(\"Interpolación cos^2(x)\")\n",
    "scatter(x,y)\n",
    "plot(lista1x,lista1y)\n",
    "show()"
   ]
  },
  {
   "cell_type": "markdown",
   "metadata": {},
   "source": [
    "Interpole los los siguientes puntos: [(0,10),(2,-10),(3,-4),(4,0),(5,5),(6,20),(7,-1)].Grafique los puntos a interpolar y la funcion interpoladora."
   ]
  },
  {
   "cell_type": "code",
   "execution_count": 16,
   "metadata": {
    "collapsed": true
   },
   "outputs": [],
   "source": [
    "#La lista de puntos a interpolar\n",
    "X=[0,2,3,4,5,6,7]\n",
    "Y=[10,-10,-4,0,5,20,-1]\n",
    ";"
   ]
  },
  {
   "cell_type": "code",
   "execution_count": 17,
   "metadata": {},
   "outputs": [
    {
     "data": {
      "text/latex": [
       "$$- \\frac{173 X^{6}}{2520} + \\frac{113 X^{5}}{84} - \\frac{4957 X^{4}}{504} + \\frac{2731 X^{3}}{84} - \\frac{54571 X^{2}}{1260} + \\frac{83 X}{14} + 10$$"
      ],
      "text/plain": [
       "       6        5         4         3          2            \n",
       "  173*X    113*X    4957*X    2731*X    54571*X    83*X     \n",
       "- ------ + ------ - ------- + ------- - -------- + ---- + 10\n",
       "   2520      84       504        84       1260      14      "
      ]
     },
     "execution_count": 17,
     "metadata": {},
     "output_type": "execute_result"
    }
   ],
   "source": [
    "#polinomio de interpolación\n",
    "interpolacion_Lagrange(X,Y,X)"
   ]
  },
  {
   "cell_type": "code",
   "execution_count": 18,
   "metadata": {},
   "outputs": [
    {
     "data": {
      "text/plain": [
       "100-element Array{Float64,1}:\n",
       " 10.0     \n",
       " 10.2139  \n",
       " 10.0604  \n",
       "  9.59978 \n",
       "  8.88731 \n",
       "  7.97299 \n",
       "  6.90205 \n",
       "  5.71518 \n",
       "  4.44876 \n",
       "  3.13511 \n",
       "  1.80274 \n",
       "  0.476596\n",
       " -0.821768\n",
       "  ⋮       \n",
       " 22.3472  \n",
       " 22.6606  \n",
       " 22.6842  \n",
       " 22.3634  \n",
       " 21.6385  \n",
       " 20.4442  \n",
       " 18.7095  \n",
       " 16.3572  \n",
       " 13.3038  \n",
       "  9.45907 \n",
       "  4.72596 \n",
       " -1.0     "
      ]
     },
     "execution_count": 18,
     "metadata": {},
     "output_type": "execute_result"
    }
   ],
   "source": [
    "interpolar2=lambdify(interpolacion_Lagrange(X,Y,X))\n",
    "lista2x=linspace(0,7,100)\n",
    "lista2y=interpolar2(lista2x)"
   ]
  },
  {
   "cell_type": "code",
   "execution_count": 19,
   "metadata": {},
   "outputs": [
    {
     "data": {
      "image/png": "[encoded data removed]",
      "text/plain": [
       "PyPlot.Figure(PyObject <matplotlib.figure.Figure object at 0x12a8497d0>)"
      ]
     },
     "metadata": {},
     "output_type": "display_data"
    }
   ],
   "source": [
    "title(\"Interpolación de puntos dados.\")\n",
    "scatter(X,Y)\n",
    "plot(lista2x,lista2y)\n",
    "show()"
   ]
  },
  {
   "cell_type": "markdown",
   "metadata": {},
   "source": [
    "# Ejercicio 5:\n",
    "Comparen como convergen los métodos al valor exacto de la integral, respecto al ancho de las celdas, háganlo para $f(x)=-\\sin(x)$, integrando en el intervalo $[0,2\\pi]$. Es decir, para los tres métodos fijen el ancho de la celda y haganla cada vez mas pequeña, grafiquen el valor de la integral contra el inverso del acho de la celda, es decir $\\int f(x) dx$ contra $1/\\Delta x$. Hagan esto para los tres métodos y ponganlo en una gráfica y comenten lo que observan."
   ]
  },
  {
   "cell_type": "code",
   "execution_count": 20,
   "metadata": {
    "collapsed": true
   },
   "outputs": [],
   "source": [
    "function f(x)\n",
    "    -(sin(x))\n",
    "end\n",
    ";"
   ]
  },
  {
   "cell_type": "code",
   "execution_count": 21,
   "metadata": {
    "collapsed": true
   },
   "outputs": [],
   "source": [
    "#límites superior e inferior de integración\n",
    "a=0\n",
    "b=2pi\n",
    ";"
   ]
  },
  {
   "cell_type": "code",
   "execution_count": 22,
   "metadata": {
    "collapsed": true
   },
   "outputs": [],
   "source": [
    "function integracion_Riemann(f,a,b)\n",
    "    lista=zeros(100) #se almacenarán el valor para cada ciclo de la integral\n",
    "    for n in 1:100 #obtendremos 100 datos\n",
    "        suma=0\n",
    "        h=(b-a)/n\n",
    "        x=zeros(1,n) #vamos a obtener los valores de los intervalos\n",
    "        x[1]=a\n",
    "        for i in 2:n\n",
    "            x[i]=x[i-1]+h #obtendremos los valores inferior y superior de los intervalos \n",
    "            suma= suma+(x[i]-x[i-1])*f((x[i-1]+x[i])/2) #método de Riemann\n",
    "        end\n",
    "        lista[n]=suma\n",
    "    end\n",
    "    lista\n",
    "end\n",
    ";"
   ]
  },
  {
   "cell_type": "code",
   "execution_count": 23,
   "metadata": {
    "collapsed": true
   },
   "outputs": [],
   "source": [
    "integracion_Riemann(f,a,b);"
   ]
  },
  {
   "cell_type": "code",
   "execution_count": 24,
   "metadata": {
    "collapsed": true
   },
   "outputs": [],
   "source": [
    "#Guardamos los datos obtenidos \n",
    "metodo1=[-3.14159, -1.8138, -1.11072, -0.738633, -0.523599, -0.389453, -0.300559, -0.238775, -0.194161, -0.160925, -0.135517, -0.115667, -0.0998672, -0.0870898, -0.0766118, -0.0679137, -0.0606146, -0.0544304, -0.0491453, -0.0445933, -0.040645, -0.0371983, -0.0341717, -0.0314997, -0.029129, -0.027016, -0.0251248, -0.0234252, -0.0218924, -0.0205051, -0.0192456, -0.0180986, -0.0170512, -0.016092, -0.0152115, -0.0144014, -0.0136542, -0.0129638, -0.0123243, -0.0117311, -0.0111796, -0.0106661, -0.0101872, -0.00973984, -0.0093213, -0.00892916, -0.00856125, -0.00821561, -0.00789049, -0.00758429, -0.00729556, -0.00702302, -0.00676546, -0.00652181, -0.00629109, -0.0060724, -0.00586491, -0.00566788, -0.00548061, -0.00530247, -0.00513287, -0.00497128, -0.00481721, -0.00467018, -0.00452979, -0.00439563, -0.00426734, -0.00414459, -0.00402706, -0.00391446, -0.00380651, -0.00370297, -0.00360359, -0.00350817, -0.00341648, -0.00332834, -0.00324357, -0.00316199, -0.00308346, -0.00300781, -0.00293492, -0.00286464, -0.00279685, -0.00273145, -0.00266831, -0.00260734, -0.00254843, -0.00249149, -0.00243644, -0.0023832, -0.00233168, -0.00228182, -0.00223354, -0.00218677, -0.00214146, -0.00209754, -0.00205496, -0.00201366, -0.0019736];"
   ]
  },
  {
   "cell_type": "code",
   "execution_count": 25,
   "metadata": {
    "collapsed": true
   },
   "outputs": [],
   "source": [
    "function integracion_Trapecio(f,a,b)\n",
    "    lista1=zeros(100) #valores de cada ciclo de la integral\n",
    "    for n in 1:100\n",
    "        h=(b-a)/n  \n",
    "        suma=0.0\n",
    "        x=zeros(1,n)\n",
    "        x[1]=a\n",
    "        for i in 2:n\n",
    "            x[i]=x[i-1]+h #se obtiene el nuevo límite inferior y superior de los intervalos\n",
    "            suma=suma+((x[i]-x[i-1]))*((f(x[i-1])+f(x[i]))/2)  #método de Trapecio\n",
    "        end\n",
    "        lista1[n]=suma\n",
    "    end\n",
    "    lista1\n",
    "end\n",
    ";"
   ]
  },
  {
   "cell_type": "code",
   "execution_count": 26,
   "metadata": {
    "collapsed": true
   },
   "outputs": [],
   "source": [
    "integracion_Trapecio(f,a,b);"
   ]
  },
  {
   "cell_type": "code",
   "execution_count": 27,
   "metadata": {
    "collapsed": true
   },
   "outputs": [],
   "source": [
    "#Guardamos los datos obtenidos \n",
    "metodo2=[-1.92367e-16, -0.9069, -0.785398, -0.597566, -0.45345, -0.350885, -0.27768, -0.224375, -0.184658, -0.154407, -0.1309, -0.112305, -0.0973633, -0.0851867, -0.0751397, -0.0667573, -0.0596938, -0.0536881, -0.0485403, -0.0440953, -0.0402313, -0.0368518, -0.0338793, -0.0312513, -0.0289166, -0.0268334, -0.0249668, -0.0232879, -0.0217725, -0.0203999, -0.0191529, -0.0180167, -0.0169784, -0.0160272, -0.0151537, -0.0143495, -0.0136076, -0.0129217, -0.0122863, -0.0116966, -0.0111483, -0.0106377, -0.0101613, -0.00971612, -0.00929957, -0.00890922, -0.00854292, -0.00819873, -0.00787492, -0.0075699, -0.00728225, -0.00701068, -0.00675401, -0.00651117, -0.00628119, -0.00606318, -0.00585631, -0.00565984, -0.0054731, -0.00529544, -0.00512628, -0.00496511, -0.00481141, -0.00466473, -0.00452466, -0.0043908, -0.00426279, -0.00414029, -0.004023, -0.00391062, -0.00380289, -0.00369954, -0.00360035, -0.00350509, -0.00341356, -0.00332557, -0.00324094, -0.00315949, -0.00308108, -0.00300555, -0.00293276, -0.00286259, -0.0027949, -0.00272958, -0.00266653, -0.00260564, -0.0025468, -0.00248994, -0.00243496, -0.00238178, -0.00233032, -0.00228052, -0.00223229, -0.00218558, -0.00214031, -0.00209644, -0.0020539, -0.00201265, -0.00197262];"
   ]
  },
  {
   "cell_type": "code",
   "execution_count": 28,
   "metadata": {
    "collapsed": true
   },
   "outputs": [],
   "source": [
    "function integral_Simpson(f,a,b)\n",
    "    lista=zeros(100)\n",
    "    for n in 1:100\n",
    "        h=(b-a)/n\n",
    "        suma=0.0\n",
    "        x=zeros(1,n)\n",
    "        x[1]=a\n",
    "        for i in 2:n #en los 3 métodos empezamos en 2 porque ya almacnamos el primer valor\n",
    "            x[i]=x[i-1]+h\n",
    "            suma = suma + (1/6)*(x[i]-x[i-1])*(f(x[i-1])+4*f((x[i-1]+x[i])/2)+f(x[i])) #método de Simpson\n",
    "        end\n",
    "        lista[n]=suma\n",
    "    end\n",
    "    lista\n",
    "end\n",
    ";"
   ]
  },
  {
   "cell_type": "code",
   "execution_count": 29,
   "metadata": {
    "collapsed": true
   },
   "outputs": [],
   "source": [
    "integral_Simpson(f,a,b);"
   ]
  },
  {
   "cell_type": "code",
   "execution_count": 30,
   "metadata": {
    "collapsed": true
   },
   "outputs": [],
   "source": [
    "metodo3=[-2.0944, -1.5115, -1.00228, -0.691611, -0.500216, -0.376597, -0.292933, -0.233975, -0.190993, -0.158752, -0.133978, -0.114546, -0.0990325, -0.0864555, -0.0761211, -0.0675282, -0.0603077, -0.054183, -0.0489436, -0.0444273, -0.0405071, -0.0370828, -0.0340742, -0.0314169, -0.0290582, -0.0269552, -0.0250721, -0.0233795, -0.0218524, -0.0204701, -0.0192147, -0.0180713, -0.0170269, -0.0160704, -0.0151923, -0.0143841, -0.0136387, -0.0129497, -0.0123117, -0.0117196, -0.0111692, -0.0106566, -0.0101786, -0.00973193, -0.00931406, -0.00892251, -0.00855514, -0.00820999, -0.0078853, -0.00757949, -0.00729113, -0.0070189, -0.00676164, -0.00651827, -0.00628779, -0.00606932, -0.00586204, -0.0056652, -0.0054781, -0.00530012, -0.00513068, -0.00496922, -0.00481527, -0.00466837, -0.00452808, -0.00439402, -0.00426582, -0.00414316, -0.00402571, -0.00391318, -0.0038053, -0.00370183, -0.00360251, -0.00350714, -0.00341551, -0.00332742, -0.00324269, -0.00316116, -0.00308267, -0.00300706, -0.0029342, -0.00286395, -0.0027962, -0.00273083, -0.00266772, -0.00260677, -0.00254789, -0.00249097, -0.00243595, -0.00238273, -0.00233123, -0.00228139, -0.00223312, -0.00218637, -0.00214108, -0.00209717, -0.00205461, -0.00201332, -0.00197327];"
   ]
  },
  {
   "cell_type": "code",
   "execution_count": 31,
   "metadata": {},
   "outputs": [
    {
     "data": {
      "image/png": "[encoded data removed]",
      "text/plain": [
       "PyPlot.Figure(PyObject <matplotlib.figure.Figure object at 0x12a8252d0>)"
      ]
     },
     "metadata": {},
     "output_type": "display_data"
    }
   ],
   "source": [
    "title(\"Convergenia de los 3 métodos\")\n",
    "n=1:99\n",
    "#Graficamos los puntos obtenidos con cada uno de los tres métodos contra el inverso de la longitud de los subintervalos\n",
    "plot(n/2pi,metodo1, label = L\"Riemann\")  \n",
    "legend()\n",
    "plot(n/2pi,metodo2,label = L\"Trapecio\")\n",
    "legend()\n",
    "plot(n/2pi,metodo3,label = L\"Simpson\")\n",
    "legend()\n",
    "show()"
   ]
  },
  {
   "cell_type": "markdown",
   "metadata": {},
   "source": [
    "Cuando tenemos uns incremento en $\\Delta x$, se va haciendo más pequeña, entonces la aproximación de la integral va siendo mejor. Y comparando los 3 métodos podemos apreciar que el más tardado en converger al valor exacto es el método de Riemann."
   ]
  },
  {
   "cell_type": "code",
   "execution_count": null,
   "metadata": {
    "collapsed": true
   },
   "outputs": [],
   "source": []
  }
 ],
 "metadata": {
  "kernelspec": {
   "display_name": "Julia 0.6.0",
   "language": "julia",
   "name": "julia-0.6"
  },
  "language_info": {
   "file_extension": ".jl",
   "mimetype": "application/julia",
   "name": "julia",
   "version": "0.6.0"
  }
 },
 "nbformat": 4,
 "nbformat_minor": 2
}
