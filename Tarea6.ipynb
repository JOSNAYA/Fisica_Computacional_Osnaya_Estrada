{
 "cells": [
  {
   "cell_type": "markdown",
   "metadata": {},
   "source": [
    "### Método del Rectangulo (básicamente Riemann con diferencias finitas)"
   ]
  },
  {
   "cell_type": "markdown",
   "metadata": {},
   "source": [
    "Dado un intervalo $[a,b]$, la integral puede ser aproximada por:\n",
    "$$\\int_a^b f(x)\\,dx \\approx (b-a) \\, f\\left(\\frac{a+b}{2}\\right)$$\n",
    "\n",
    "![Rectángulo](https://upload.wikimedia.org/wikipedia/commons/2/26/Integration_rectangle.svg)\n",
    "Esto básicamente es la definición de suma de Riemann para la integral, la cual se define tomando el limite de $b-a \\to 0$. Es claro que el método funciona mejor cuando el intervalo de integración es pequeño."
   ]
  },
  {
   "cell_type": "markdown",
   "metadata": {},
   "source": [
    "__Ejercicio 1__: Implementar el método de integración del rectángulo. Deberán construir una _rutina_ que reciba una función y el tamaño de la diferencia finita, y devuelva el valor aproximado de la integral. Para hacer esto deberán dividir el intervalo de integración en segmentos pequeños y aplicar la formula de arriba.\n",
    "\n",
    "Ejemplos: \n",
    "`rectangulo(f,a,b,h)`, donde $h=(b-a)/n$, \n",
    "`rectangulo(f,a,b,n)` o \n",
    "`rectangulo(f,b)` donde `b=linspace(a,b,n)`."
   ]
  },
  {
   "cell_type": "code",
   "execution_count": 1,
   "metadata": {},
   "outputs": [
    {
     "data": {
      "text/plain": [
       "rectangulo (generic function with 1 method)"
      ]
     },
     "execution_count": 1,
     "metadata": {},
     "output_type": "execute_result"
    }
   ],
   "source": [
    "function rectangulo(f,a,b,h) #f-la función, a-límite inferior, b-límite superior, h-el número de particiones\n",
    "    valor=0.0 \n",
    "    integral=0.0 #las definimos como 0.0 para almacenar los datos\n",
    "    s=linspace(a,b,h) #vamos a obtener nuestros puntos que será las bases de los rectangulos\n",
    "    for i in 1:(h-1) #tomamos hasta h-1, por que si tomaramos h no hay un valor superior\n",
    "        valor=(s[i+1]-s[i])*f((s[i+1]+s[i])/2) \n",
    "        #aplicando la aproximación arriba mencionada, esto es para el primer rectángulo\n",
    "        integral=valor+integral\n",
    "        #vamos a sumar, las áreas obtenidas, para tener una aproximación al área total de la curva\n",
    "    end\n",
    "    return integral # regresa, el valor numérico aproximado a la integral\n",
    "end\n",
    "        \n",
    "        "
   ]
  },
  {
   "cell_type": "code",
   "execution_count": 2,
   "metadata": {},
   "outputs": [
    {
     "data": {
      "text/plain": [
       "f (generic function with 1 method)"
      ]
     },
     "execution_count": 2,
     "metadata": {},
     "output_type": "execute_result"
    }
   ],
   "source": [
    "f(x)=3x^2-2"
   ]
  },
  {
   "cell_type": "code",
   "execution_count": 3,
   "metadata": {},
   "outputs": [
    {
     "data": {
      "text/plain": [
       "730.0"
      ]
     },
     "execution_count": 3,
     "metadata": {},
     "output_type": "execute_result"
    }
   ],
   "source": [
    "rectangulo(f,0,10,2)"
   ]
  },
  {
   "cell_type": "code",
   "execution_count": 4,
   "metadata": {},
   "outputs": [
    {
     "data": {
      "text/plain": [
       "976.9135802469136"
      ]
     },
     "execution_count": 4,
     "metadata": {},
     "output_type": "execute_result"
    }
   ],
   "source": [
    "rectangulo(f,0,10,10)"
   ]
  },
  {
   "cell_type": "code",
   "execution_count": 5,
   "metadata": {},
   "outputs": [
    {
     "data": {
      "text/plain": [
       "979.998995987968"
      ]
     },
     "execution_count": 5,
     "metadata": {},
     "output_type": "execute_result"
    }
   ],
   "source": [
    "rectangulo(f,0,10,500)"
   ]
  },
  {
   "cell_type": "markdown",
   "metadata": {},
   "source": [
    "### Método del Trapecio"
   ]
  },
  {
   "cell_type": "markdown",
   "metadata": {},
   "source": [
    "En lugar de utilizar rectangulos para aproximar la integral en un intervalo dado $[a,b]$, podemos utilizar trapecios:\n",
    "\n",
    "$$\\int_a^b f(x)\\,dx \\approx (b-a) \\, \\left(\\frac{f(a) + f(b)}{2}\\right).$$\n",
    "\n",
    "Nótese que el area se calculó simplemente útilizando la fórmula del area para un trapecio.\n",
    "\n",
    "![Trapecio](https://upload.wikimedia.org/wikipedia/commons/0/03/Integration_trapezoid.svg)"
   ]
  },
  {
   "cell_type": "markdown",
   "metadata": {},
   "source": [
    "__Ejercicio 2:__ Implementar método del trapecio de la misma forma que el ejercicio anterior."
   ]
  },
  {
   "cell_type": "code",
   "execution_count": 6,
   "metadata": {},
   "outputs": [
    {
     "data": {
      "text/plain": [
       "trapecio (generic function with 1 method)"
      ]
     },
     "execution_count": 6,
     "metadata": {},
     "output_type": "execute_result"
    }
   ],
   "source": [
    "function trapecio(f,a,b) #f-la función, a-límite inferior, b-límite superior, h-el número de particiones\n",
    "    integral=0.0 \n",
    "    integral=(b-a)*((f(a)+f(b))/2) \n",
    "    return integral # regresa, el valor numérico aproximado a la integral\n",
    "end\n",
    "        "
   ]
  },
  {
   "cell_type": "code",
   "execution_count": 7,
   "metadata": {},
   "outputs": [
    {
     "data": {
      "text/plain": [
       "f (generic function with 1 method)"
      ]
     },
     "execution_count": 7,
     "metadata": {},
     "output_type": "execute_result"
    }
   ],
   "source": [
    "f(x)=x^3-6x^2+11x-6"
   ]
  },
  {
   "cell_type": "code",
   "execution_count": 8,
   "metadata": {},
   "outputs": [
    {
     "data": {
      "text/plain": [
       "0.13725000000000032"
      ]
     },
     "execution_count": 8,
     "metadata": {},
     "output_type": "execute_result"
    }
   ],
   "source": [
    "trapecio(f,1.3,1.8) \n",
    "#trapecio simple"
   ]
  }
 ],
 "metadata": {
  "kernelspec": {
   "display_name": "Julia 0.6.0",
   "language": "julia",
   "name": "julia-0.6"
  },
  "language_info": {
   "file_extension": ".jl",
   "mimetype": "application/julia",
   "name": "julia",
   "version": "0.6.0"
  }
 },
 "nbformat": 4,
 "nbformat_minor": 2
}
