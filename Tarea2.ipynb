{
 "cells": [
  {
   "cell_type": "markdown",
   "metadata": {},
   "source": [
    "> # Uso de método de Newton\n",
    "\n"
   ]
  },
  {
   "cell_type": "markdown",
   "metadata": {},
   "source": [
    "__Ejercicio 1:__ Crear una rutina que calcule las raices de la siguiente ecuación trascendental: \n",
    "$$x \\tan(x)=\\sqrt{A-x^2},$$\n",
    "esta ecuación tiene interes en la física cuántica de particulas en una dimensión, en particular, sus soluciones estan directamente relacionadas con las eigenenergias del _pozo finito cuadrado_, y el número de soluciones posibles es precisamente el número de estados _ligados_ que caben en el pozo.\n",
    "\n",
    "__Nota:__ Usar varias condiciones iniciales $x_0$."
   ]
  },
  {
   "cell_type": "code",
   "execution_count": 54,
   "metadata": {},
   "outputs": [
    {
     "data": {
      "text/plain": [
       "Newton (generic function with 2 methods)"
      ]
     },
     "execution_count": 54,
     "metadata": {},
     "output_type": "execute_result"
    }
   ],
   "source": [
    "function Newton(y0)\n",
    "    A=10\n",
    "    y=float(y0)\n",
    "    f(x)=x*tan(x)-sqrt(complex(A-x^2))  #función\n",
    "    g(x)=(x*sec(x)*sec(x))+tan(x)+x*(1/(sqrt(complex(A-x^2))))  #derivada\n",
    "    for i in 1:20\n",
    "        ri=(y)-(f(y)/g(y))\n",
    "        y=ri\n",
    "        println(ri,f(ri))\n",
    "    end\n",
    "end"
   ]
  },
  {
   "cell_type": "code",
   "execution_count": 58,
   "metadata": {},
   "outputs": [
    {
     "name": "stdout",
     "output_type": "stream",
     "text": [
      "3.1285594990189955 + 0.0071115316735396615im-0.503939268460062 + 0.07020146884358167im\n",
      "3.179189767529691 - 0.0037852082046784382im0.0830464364172804 - 0.3416884952984157im\n",
      "3.1461020273576614 + 0.002306150763106811im-0.30606921081792965 + 0.029921238977315898im\n",
      "3.1695867288938726 - 0.001286790109691684im0.06986442180488579 - 0.22006938938010231im\n",
      "3.1544359536935067 - 0.0014357317018582594im-0.18297376979514712 - 0.024812907714394594im\n",
      "3.1649286890778847 + 0.0007912928743940579im0.05473987250770031 + 0.13343994781790755im\n",
      "3.159101717554807 + 0.0014685585538448448im-0.08993736697996091 + 0.036605937718813715im\n",
      "3.1624464939079275 - 0.0007013357169066731im0.024154245093728578 - 0.05528920598915737im\n",
      "3.161269040515911 - 0.00032877386747532446im-0.018680108089481152 - 0.013894995267245245im\n",
      "3.161663483786758 + 6.553338968064832e-5im0.0010554637009331513 + 0.0035284724494284055im\n",
      "3.161640596531282 + 9.713033322242758e-7im-7.94782938743771e-5 + 5.14734996260778e-5im\n",
      "3.1616420955880304 - 1.0750488622181206e-9im2.5569670519809407e-8 - 5.7034569528185836e-8im\n",
      "3.161642095106065 - 3.832991431167483e-16im-3.3237301799715624e-14 - 2.0335162988423932e-14im\n",
      "3.1616420951060653 + 1.776416150944566e-28im-3.802513859341161e-15 + 9.424417615705079e-27im\n",
      "3.1616420951060653 - 9.394304904833574e-42im-3.802513859341161e-15 - 4.9839589999979106e-40im\n",
      "3.1616420951060653 + 4.983191498022311e-55im-3.802513859341161e-15 + 2.643731746720579e-53im\n",
      "3.1616420951060653 - 2.6370137477543386e-68im-3.802513859341161e-15 - 1.3990144597580836e-66im\n",
      "3.1616420951060653 + 1.3960176182637294e-81im-3.802513859341161e-15 + 7.406289920525442e-80im\n",
      "3.1616420951060653 - 7.397048640413673e-95im-3.802513859341161e-15 - 3.924354970195121e-93im\n",
      "3.1616420951060653 + 3.9120006030074885e-108im-3.802513859341161e-15 + 2.0754330214814157e-106im\n"
     ]
    }
   ],
   "source": [
    "Newton(3.2)"
   ]
  },
  {
   "cell_type": "code",
   "execution_count": null,
   "metadata": {},
   "outputs": [],
   "source": [
    "\n"
   ]
  },
  {
   "cell_type": "code",
   "execution_count": null,
   "metadata": {
    "collapsed": true
   },
   "outputs": [],
   "source": []
  }
 ],
 "metadata": {
  "kernelspec": {
   "display_name": "Julia 0.6.0",
   "language": "julia",
   "name": "julia-0.6"
  },
  "language_info": {
   "file_extension": ".jl",
   "mimetype": "application/julia",
   "name": "julia",
   "version": "0.6.0"
  }
 },
 "nbformat": 4,
 "nbformat_minor": 2
}
