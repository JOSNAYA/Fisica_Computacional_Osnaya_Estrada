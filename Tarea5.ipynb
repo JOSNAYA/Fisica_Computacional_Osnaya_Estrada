{
 "cells": [
  {
   "cell_type": "markdown",
   "metadata": {},
   "source": [
    "# Métodos de integración\n"
   ]
  },
  {
   "cell_type": "markdown",
   "metadata": {},
   "source": [
    "> ### Método de integración de Riemann"
   ]
  },
  {
   "cell_type": "markdown",
   "metadata": {
    "collapsed": true
   },
   "source": [
    "Si se toma una función que esté definida en un intervalo cerrado $[a,b]$. Una partición P de dicho conjunto será tal que\n",
    "$$a=x_0<x_1<x_2 \\cdots <x_n-1<x_n=b$$\n",
    "Si $ \\Delta_x$ es el ancho del i-ésimo subintervalo, es decir, $ \\Delta x_i =x_i - x_{i-1}$ entonces la norma de P, va a ser la longitud del subintervalo más grande.\n",
    "$||P||=max_{1\\leq i \\leq n}{\\Delta x_i}=max(\\Delta x_1,\\Delta x_2, \\cdots, \\Delta x_n)$\n",
    "Si $c_i$ es cualquier punto del subintervalo i-ésimo entonces la suma\n",
    "$$\\sum_{i=1}^n f(c_i)\\Delta x_i$$\n",
    "se define como suma de Riemann.\n",
    "\n",
    "Si $c_i=m_i \\forall i$ donde $f(m_i)$ es el valor mínimo de $f$ en el i-ésimo subintervalo, se denomina suma inferior asociada a P.\n",
    "$$L(f,P)= \\sum_{i=1}^n f(m_i) \\Delta x_i$$"
   ]
  },
  {
   "cell_type": "markdown",
   "metadata": {},
   "source": [
    "![Image](http://image2.slideserve.com/3819985/suma-inferior-y-superior-n.jpg)"
   ]
  },
  {
   "cell_type": "markdown",
   "metadata": {},
   "source": [
    "Si $c_i=M_i \\forall i$ donde $f(m_i)$ es el valor máximo de $f$ en el i-ésimo subintervalo, se denomina suma superior asociada a P.\n",
    "$$U(f,P)= \\sum_{i=1}^n f(m_i) \\Delta x_i$$\n",
    "Para cualquier partición tenemos que $L(f,P)\\leq \\sum_{i=1}^n f(c_i)\\Delta x_i \\leq U(f,P)$\n",
    "\n",
    "Una función definida en $[a,b]$ se dice integrable en ese intervalo, si existe el límite de las sumas de Riemann, cuando la norma de P tiende a 0, dicho valor se denomina la integral definida de f con límite inferior a y límite superior b.\n",
    "\n",
    "$$\\lim_{||P|| \\to 0} \\sum_{i=1}^n f(c_i)\\Delta x_i = \\int_{a}^b f(x)dx $$"
   ]
  },
  {
   "cell_type": "markdown",
   "metadata": {},
   "source": [
    "> ### Método del trapecio"
   ]
  },
  {
   "cell_type": "markdown",
   "metadata": {},
   "source": [
    "Es un mètodo para obtener el valor numérico aproximado de integrales definidas. Es la primera de las fórmulas cerradas de integración de Newton-Cotes, cuando el polinomio interpolante es de grado uno.  \n",
    "\n",
    "Obtenemos para el polinomio de primer grado:  \n",
    "\n",
    "$$A = \\int_{a}^{b} f(x)dx \\cong \\int_{a}^{b} f_1(x)dx$$  \n",
    "\n",
    "donde volvemos a redefinir a $f_1(x)$. \n",
    "\n",
    "$$f_1(x) = f(a) + \\frac {f(b)-f(a)}{b-a} (x-a)$$\n",
    "\n",
    "Entonces el área bajo la recta va a ser una aproximación de la integral inicial $\\int_{a}^{b}f(x)dx$, obteniendo que \n",
    "\n",
    "$$A = \\int_{a}^{b}[f(a) + \\frac {f(b)-f(a)}{b-a} (x-a)]dx$$\n",
    "\n",
    "Y al resolver la integral, se obtiene la regla del trapecio\n",
    "\n",
    "$$A = \\int_{a}^{b} f(x)dx \\approx (b-a)[\\frac {f(a)+f(b)}{2}]$$"
   ]
  },
  {
   "cell_type": "markdown",
   "metadata": {},
   "source": [
    "![Imagen](http://repositorio.uned.ac.cr/multimedias/metodos_numericos_ensenanza/modulo4/img/des/trapecio4.jpg)"
   ]
  },
  {
   "cell_type": "markdown",
   "metadata": {},
   "source": [
    "El error en este método está dado por\n",
    "\n",
    "$$E=-\\frac{1}{12}f^{2}(\\xi)(b-a)^3$$\n",
    "\n",
    "donde $\\xi$ se encuentra en algún lugar del intervalo $[a,b]$"
   ]
  },
  {
   "cell_type": "markdown",
   "metadata": {},
   "source": [
    "> ### Regla de Simpson de orden 2"
   ]
  },
  {
   "cell_type": "markdown",
   "metadata": {},
   "source": [
    "Tomando una función $f(x)$ en un intervalo cerrado $[a,b]$ y $x_0=a, x_1=x_0+h, x_2=b$ donde $h=\\frac{b-a}{2}$. \n",
    "\n",
    "Con los puntos $(x_0,f(x_0)),(x_1,f(x_1)),(x_2,f(x_2))$ se forma el polinomio de Lagrange de grado 2:\n",
    "\n",
    "$$P_2(x)=\\frac{(x-x_1)(x-x_2)}{(x_0-x_1)(x_0-x_2)}f(x_0) + \\frac{(x-x_0)(x-x_2)}{(x_1-x_0)(x_1-x_2)}f(x_1) + \\frac{(x-x_0)(x-x_1)}{(x_2-x_0)(x_2-x_1)}f(x_2)$$\n",
    "\n",
    "Ahora $$\\int_{x_0}^{x_2}f(x)dx \\approx \\int_{x_0}^{x_2}P_2(x)dx$$\n",
    "\n",
    "Resolviendo la integral $\\int_{x_0}^{x_2}P_2(x)dx$\n",
    "\n",
    "$=\\frac{f(x_0)}{(x_0-x_1)(x_0-x_2)}[\\frac{(x-x_1)(x-x_2)^2}{2}-\\frac{(x-x_2)^3}{6}]$\n",
    "\n",
    "$+\\frac{f(x_1)}{(x_1-x_0)(x_1-x_2)}[\\frac{(x-x_2)^2}{2}(x-x_0)-\\frac{(x-x_2)^3}{6}]$\n",
    "\n",
    "$+\\frac{f(x_2)}{(x_2-x_0)(x_2-x_1)}[\\frac{(x-x_1)^2}{2}(x-x_0)-\\frac{(x-x_1)^3}{6}]$  $|_{x_0}^{x_2}$"
   ]
  },
  {
   "cell_type": "markdown",
   "metadata": {},
   "source": [
    "$=f(x_0)[-\\frac{(x_0-x_1)(x_0-x_2)^2}{2(x_0-x_1)(x_0-x_2)}+\\frac{(x_0-x_2)^3}{6(9x_0-x_1)(x_0-x_2)}]$\n",
    "\n",
    "$+f(x_1)[\\frac{(x_0-x_2)^3}{6(x_1-x_0)(x_1-x_2)}]$ \n",
    "\n",
    "$+f(x_2)[\\frac{(x_2-x_0)(x_2-x_1)^2}{2(x_2-x_0)(x_2-x_1)}- \\frac{(x_2-x_1)^3}{6(x_2-x_0)(x_2-x_1)}+\\frac{(x_0-x_1)^3}{6(x_2-x_0)(x_2-x_1)}]$"
   ]
  },
  {
   "cell_type": "markdown",
   "metadata": {},
   "source": [
    "$=f(x_0)[-\\frac{(x_0-x_2)}{2}+\\frac{(x_0-x_2)^2}{6(x_0-x_1)}]+f(x_1)[\\frac{(x_0-x_2)^3}{6(x_1-x_0)(x_1-x_2)}] \n",
    "+ f(x_2)[\\frac{(x_2-x_1)}{2}-\\frac{(x_2-x_1)^2}{6(x_2-x_0)}+\\frac{(x_0-x_1)^3}{6(x_2-x_0)(x_2-x_1)}]$"
   ]
  },
  {
   "cell_type": "markdown",
   "metadata": {},
   "source": [
    "si reemplazamos $x_1=x_0+h,x_2=x_0+2h$ obtendremos"
   ]
  },
  {
   "cell_type": "markdown",
   "metadata": {},
   "source": [
    "$$\\int_{x_0}^{x_1}P(x)dx=f(x_0)[\\frac{h}{3}]+f(x_1)[\\frac{4}{3}h]+f(x_2)[\\frac{h}{3}]$$"
   ]
  },
  {
   "cell_type": "markdown",
   "metadata": {},
   "source": [
    "factorizando $\\frac{h}{3}$\n",
    "\n",
    "$$\\int_{x_0}^{x_1}P(x)dx=\\frac{h}{3}[f(x_0)+4f(x_1)+f(x_2)]$$"
   ]
  },
  {
   "cell_type": "markdown",
   "metadata": {},
   "source": [
    "Llegamos a la expresión final sustituyendo $x_0, x_1, x_2$ y $h$\n",
    "\n",
    "$$\\int_{a}^{b}f(x)dx \\approx \\frac{b-a}{6}[f(a)+4f(\\frac{a+b}{2})+f(b)]$$"
   ]
  },
  {
   "cell_type": "markdown",
   "metadata": {},
   "source": [
    "El error en la aproximación es $E=|\\frac{h^5}{90}f_{z}^{3}|$ con $x_0<z<x_2$"
   ]
  }
 ],
 "metadata": {
  "kernelspec": {
   "display_name": "Julia 0.6.0",
   "language": "julia",
   "name": "julia-0.6"
  },
  "language_info": {
   "file_extension": ".jl",
   "mimetype": "application/julia",
   "name": "julia",
   "version": "0.6.0"
  }
 },
 "nbformat": 4,
 "nbformat_minor": 2
}
