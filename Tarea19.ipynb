{
 "cells": [
  {
   "cell_type": "markdown",
   "metadata": {},
   "source": [
    "## Ejercicio 1:\n",
    "\n",
    "Escriba la forma del operador laplaciano utilizando diferencias finitas simétricas. Es decir, discretice:\n",
    "\n",
    "$$\\nabla^2=\\frac{\\partial^2 f}{\\partial x^2}+\\frac{\\partial^2 f}{\\partial y^2}+\\frac{\\partial^2 f}{\\partial z^2}$$\n"
   ]
  },
  {
   "cell_type": "markdown",
   "metadata": {},
   "source": [
    "#### Procedimiento\n",
    "\n",
    "La diferencia central para la aproximación de la segunda derivada es:\n",
    "\n",
    "$$f''(x)\\approx \\frac {{f}_{x+h,y,z}-2{f}_{x,y,z}+{f}_{ x-h,y,z}} {{h}^{2}} $$\n",
    "\n",
    "$$f''(y)\\approx \\frac {{f}_{x,y+h,z}-2{f}_{x,y,z}+{f}_{x,y-h,z}} {{h}^{2}} $$\n",
    "\n",
    "$$f''(z)\\approx \\frac {{f}_{x,y,z+h}-2{f}_{x,y,z}+{f}_{x,y,z-h}} {{h}^{2}} $$\n",
    "\n",
    "Sumando las 3 anteriores\n",
    "\n",
    "$$\\nabla^2\\approx \\frac {{f}_{x+h,y,z}-2{f}_{x,y,z}+{f}_{ x-h,y,z}+{f}_{x,y+h,z}-2{f}_{x,y,z}+{f}_{x,y-h,z}+ {f}_{x,y,z+h}-2{f}_{x,y,z}+{f}_{x,y,z-h}} {{h}^{2}}$$\n",
    "\n",
    "Simplificando\n",
    "\n",
    "$$\\nabla^2\\approx \\frac {{f}_{x+h,y,z}+{f}_{ x-h,y,z}+{f}_{x,y+h,z}+{f}_{x,y-h,z}+ {f}_{x,y,z+h}+{f}_{x,y,z-h}-6{f}_{x,y,z}} {{h}^{2}}$$"
   ]
  },
  {
   "cell_type": "markdown",
   "metadata": {},
   "source": [
    "## Ejercicio 2: Condiciones a la frontera de Dirichlet\n",
    "Discretice la ecuación \n",
    "$$ \\frac{d^2f}{dx^2}, $$\n",
    "en el intervalo $[0,1]$, y aplicando el operador laplaciano discretizado obtenga el sistema de ecuaciones algebraicas lineales correspondientes al problema de _Dirichlet_:\n",
    "$f(0) = a$ y $f(1) = b$ dividiendo el intervalo $[0,1]$ en $5$ puntos separados por $h$.\n",
    "\n",
    "* Escriba el sistema lineal de ecuaciones que surge, usando $\\LaTeX$"
   ]
  },
  {
   "cell_type": "markdown",
   "metadata": {},
   "source": [
    "#### Procedimiento\n",
    "Igualamos la segunda derviada a a cero y teniendo en mente los puntos adyacentes\n",
    "\n",
    "$$f({ x }_{ i+1 })-2f({ x }_{ i })+f({ x }_{ i-1 })=0$$\n",
    "\n",
    "Dividimos el intervalo en 5  puntos, separados $h=\\frac{1}{4}$ \n",
    "$$x_{1}=0$$\n",
    "\n",
    "$$x_{2}=1/4$$\n",
    "\n",
    "$$x_{3}=2/4$$\n",
    "\n",
    "$$x_{4}=3/4$$\n",
    "\n",
    "$$x_{5}=1$$\n",
    "\n",
    "Evaluando  en  $x_{2}$, $x_{3}=0$ y $x_{4}=0$, tenemos 3 ecuaciones\n",
    "\n",
    "$$f({ x }_{ 1 })-2f({ x }_{ 2 })+f({ x }_{ 3 })=0$$\n",
    "\n",
    "$$f({ x }_{ 2 })-2f({ x }_{ 3 })+f({ x }_{ 4 })=0$$\n",
    "\n",
    "$$f({ x }_{ 3 })-2f({ x }_{ 4 })+f({ x }_{ 5 })=0$$\n",
    "\n",
    "Ahora si sustituimos $f(0) = f({ x }_{ 1 })= a$ y $f(1) =f({ x }_{ 5 })= b$\n",
    "\n",
    "Las ecuaciones quedarán de la siguiente forma\n",
    "\n",
    "$$a-2f({ x }_{ 2 })+f({ x }_{ 3 })=0$$\n",
    "\n",
    "$$f({ x }_{ 2 })-2f({ x }_{ 3 })+f({ x }_{ 4 })=0$$\n",
    "\n",
    "$$f({ x }_{ 3 })-2f({ x }_{ 4 })+b=0$$"
   ]
  },
  {
   "cell_type": "markdown",
   "metadata": {},
   "source": [
    "## Ejercicio 3: Condiciones a la frontera de Neumann\n",
    "Hacer lo mismo para condiciones de _Neumann_, es decir, fijando en los extremos el valor de la primera derivada de la función. Para esto utilice la derivada _hacia adeltante_ en las orillas, es decir, si $f'(0)=a$ y $f'(1)=b$, entonces $(f_1-f_0)/h=a$, etc. No olvide que debe resultar un sistema de ecuación cuya dimensión sea el número de incognitas.\n",
    "\n",
    "* Escriba el sistema lineal de ecuaciones que surge, usando $\\LaTeX$ en el _notebook_ de la tarea que sigue."
   ]
  },
  {
   "cell_type": "markdown",
   "metadata": {},
   "source": [
    "#### Procedimiento\n",
    "Utilizando el ejercicio anterior tenemos que\n",
    "\n",
    "$$f({ x }_{ 1 })-2f({ x }_{ 2 })+f({ x }_{ 3 })=0$$\n",
    "\n",
    "$$f({ x }_{ 2 })-2f({ x }_{ 3 })+f({ x }_{ 4 })=0$$\n",
    "\n",
    "$$f({ x }_{ 3 })-2f({ x }_{ 4 })+f({ x }_{ 5 })=0$$\n",
    "\n",
    "Como queremos saber el valor $f({ x }_{ 1 })$ y $f({ x }_{ 5 })$, usando si $f'(0)=a$ y $f'(1)=b$, entonces $(f_1-f_0)/h=a$\n",
    "\n",
    "$$\\frac { f({ x }_{ 2 })-f({ x }_{ 1 }) }{ h } =a$$\n",
    "\n",
    "$$\\frac { f({ x }_{ 5 })-f({ x }_{ 4 }) }{ h } =b$$\n",
    "\n",
    "Y como $h = \\frac{1}{4}$\n",
    "\n",
    "$$\\frac { f({ x }_{ 2 })-f({ x }_{ 1 }) }{ 1/4 } =a$$\n",
    "\n",
    "Despejando $f({ x }_{ 1 })$\n",
    "\n",
    "$$ f({ x }_{ 1 })=f({ x }_{ 2 })-\\frac { a }{ 4 } $$\n",
    "\n",
    "y \n",
    "\n",
    "$$\\frac { f({ x }_{ 5 })-f({ x }_{ 4 }) }{ 1/4 } =b$$\n",
    "\n",
    "Despejando $f({ x }_{ 5 })$\n",
    "$$ f({ x }_{ 5 })=\\frac { b }{ 4 }-f({ x }_{ 4 }) $$\n",
    "\n",
    "En este caso obtenemos 5 ecuaciones\n",
    "\n",
    "$$f({ x }_{ 1 })=f({ x }_{ 2 })-ah$$\n",
    "\n",
    "$$f({ x }_{ 1 })-2f({ x }_{ 2 })+f({ x }_{ 3 })=0$$\n",
    "\n",
    "$$f({ x }_{ 2 })-2f({ x }_{ 3 })+f({ x }_{ 4 })=0$$\n",
    "\n",
    "$$f({ x }_{ 3 })-2f({ x }_{ 4 })+f({ x }_{ 5 })=0$$\n",
    "\n",
    "$$f({ x }_{ 5 })=bh-f({ x }_{ 4 })$$"
   ]
  }
 ],
 "metadata": {
  "kernelspec": {
   "display_name": "Julia 0.6.0",
   "language": "julia",
   "name": "julia-0.6"
  },
  "language_info": {
   "file_extension": ".jl",
   "mimetype": "application/julia",
   "name": "julia",
   "version": "0.6.0"
  }
 },
 "nbformat": 4,
 "nbformat_minor": 2
}
