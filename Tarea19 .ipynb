{
 "cells": [
  {
   "cell_type": "markdown",
   "metadata": {},
   "source": [
    "## Ejercicio 1:\n",
    "\n",
    "Escriba la forma del operador laplaciano utilizando diferencias finitas simétricas. Es decir, discretice:\n",
    "\n",
    "$$\\nabla^2=\\frac{\\partial^2 f}{\\partial x^2}+\\frac{\\partial^2 f}{\\partial y^2}+\\frac{\\partial^2 f}{\\partial z^2}$$\n"
   ]
  },
  {
   "cell_type": "markdown",
   "metadata": {},
   "source": [
    "#### Procedimiento\n",
    "\n",
    "La diferencia central para la aproximación de la segunda derivada es:\n",
    "\n",
    "$$f''(x)\\approx \\frac {{f}_{x+h,y,z}-2{f}_{x,y,z}+{f}_{ x-h,y,z}} {{h}^{2}} $$\n",
    "\n",
    "$$f''(y)\\approx \\frac {{f}_{x,y+h,z}-2{f}_{x,y,z}+{f}_{x,y-h,z}} {{h}^{2}} $$\n",
    "\n",
    "$$f''(z)\\approx \\frac {{f}_{x,y,z+h}-2{f}_{x,y,z}+{f}_{x,y,z-h}} {{h}^{2}} $$\n",
    "\n",
    "Sumando las 3 anteriores\n",
    "\n",
    "$$\\nabla^2\\approx \\frac {{f}_{x+h,y,z}-2{f}_{x,y,z}+{f}_{ x-h,y,z}+{f}_{x,y+h,z}-2{f}_{x,y,z}+{f}_{x,y-h,z}+ {f}_{x,y,z+h}-2{f}_{x,y,z}+{f}_{x,y,z-h}} {{h}^{2}}$$\n",
    "\n",
    "Simplificando\n",
    "\n",
    "$$\\nabla^2\\approx \\frac {{f}_{x+h,y,z}+{f}_{ x-h,y,z}+{f}_{x,y+h,z}+{f}_{x,y-h,z}+ {f}_{x,y,z+h}+{f}_{x,y,z-h}-6{f}_{x,y,z}} {{h}^{2}}$$"
   ]
  },
  {
   "cell_type": "markdown",
   "metadata": {},
   "source": [
    "## Ejercicio 2: Condiciones a la frontera de Dirichlet\n",
    "Discretice la ecuación \n",
    "$$ \\frac{d^2f}{dx^2}, $$\n",
    "en el intervalo $[0,1]$, y aplicando el operador laplaciano discretizado obtenga el sistema de ecuaciones algebraicas lineales correspondientes al problema de _Dirichlet_:\n",
    "$f(0) = a$ y $f(1) = b$ dividiendo el intervalo $[0,1]$ en $5$ puntos separados por $h$.\n",
    "\n",
    "* Escriba el sistema lineal de ecuaciones que surge, usando $\\LaTeX$"
   ]
  },
  {
   "cell_type": "markdown",
   "metadata": {},
   "source": [
    "#### Procedimiento\n",
    "Igualamos la segunda derviada a a cero y teniendo en mente los puntos adyacentes\n",
    "\n",
    "$$f({ x }_{ i+1 })-2f({ x }_{ i })+f({ x }_{ i-1 })=0$$\n",
    "\n",
    "Dividimos el intervalo en 5  puntos, separados $h=\\frac{1}{4}$ \n",
    "$$x_{1}=0$$\n",
    "\n",
    "$$x_{2}=1/4$$\n",
    "\n",
    "$$x_{3}=2/4$$\n",
    "\n",
    "$$x_{4}=3/4$$\n",
    "\n",
    "$$x_{5}=1$$\n",
    "\n",
    "Evaluando  en  $x_{2}$, $x_{3}=0$ y $x_{4}=0$, tenemos 3 ecuaciones\n",
    "\n",
    "$$f({ x }_{ 1 })-2f({ x }_{ 2 })+f({ x }_{ 3 })=0$$\n",
    "\n",
    "$$f({ x }_{ 2 })-2f({ x }_{ 3 })+f({ x }_{ 4 })=0$$\n",
    "\n",
    "$$f({ x }_{ 3 })-2f({ x }_{ 4 })+f({ x }_{ 5 })=0$$\n",
    "\n",
    "Ahora si sustituimos $f(0) = f({ x }_{ 1 })= a$ y $f(1) =f({ x }_{ 5 })= b$\n",
    "\n",
    "Las ecuaciones quedarán de la siguiente forma\n",
    "\n",
    "$$a-2f({ x }_{ 2 })+f({ x }_{ 3 })=0$$\n",
    "\n",
    "$$f({ x }_{ 2 })-2f({ x }_{ 3 })+f({ x }_{ 4 })=0$$\n",
    "\n",
    "$$f({ x }_{ 3 })-2f({ x }_{ 4 })+b=0$$"
   ]
  },
  {
   "cell_type": "markdown",
   "metadata": {},
   "source": [
    "## Ejercicio 3: Condiciones a la frontera de Neumann\n",
    "Hacer lo mismo para condiciones de _Neumann_, es decir, fijando en los extremos el valor de la primera derivada de la función. Para esto utilice la derivada _hacia adeltante_ en las orillas, es decir, si $f'(0)=a$ y $f'(1)=b$, entonces $(f_1-f_0)/h=a$, etc. No olvide que debe resultar un sistema de ecuación cuya dimensión sea el número de incognitas.\n",
    "\n",
    "* Escriba el sistema lineal de ecuaciones que surge, usando $\\LaTeX$ en el _notebook_ de la tarea que sigue."
   ]
  },
  {
   "cell_type": "markdown",
   "metadata": {},
   "source": [
    "#### Procedimiento\n",
    "Utilizando el ejercicio anterior tenemos que\n",
    "\n",
    "$$f({ x }_{ 1 })-2f({ x }_{ 2 })+f({ x }_{ 3 })=0$$\n",
    "\n",
    "$$f({ x }_{ 2 })-2f({ x }_{ 3 })+f({ x }_{ 4 })=0$$\n",
    "\n",
    "$$f({ x }_{ 3 })-2f({ x }_{ 4 })+f({ x }_{ 5 })=0$$\n",
    "\n",
    "Como queremos saber el valor $f({ x }_{ 1 })$ y $f({ x }_{ 5 })$, usando si $f'(0)=a$ y $f'(1)=b$, entonces $$\\frac{(f_1-f_0)}{h}=a$$\n",
    "\n",
    "Entonces obtenemos\n",
    "\n",
    "$$\\frac { f({ x }_{ 2 })-f({ x }_{ 1 }) }{ h } =a$$\n",
    "\n",
    "$$\\frac { f({ x }_{ 5 })-f({ x }_{ 4 }) }{ h } =b$$\n",
    "\n",
    "multiplicamos por $h$ en ambas ecuaciones\n",
    "\n",
    "$$ f({ x }_{ 1 })-f({ x }_{ 2 })=a h  $$\n",
    "\n",
    "y \n",
    "\n",
    "$$f({ x }_{ 5 })-f({ x }_{ 4 }) = b h$$\n",
    "\n",
    "En este caso obtenemos 5 ecuaciones\n",
    "\n",
    "\n",
    "$$f({ x }_{ 2 })-f({ x }_{ 1 })-ah=0$$\n",
    "\n",
    "$$f({ x }_{ 1 })-2f({ x }_{ 2 })+f({ x }_{ 3 })=0$$\n",
    "\n",
    "$$f({ x }_{ 2 })-2f({ x }_{ 3 })+f({ x }_{ 4 })=0$$\n",
    "\n",
    "$$f({ x }_{ 3 })-2f({ x }_{ 4 })+f({ x }_{ 5 })=0$$\n",
    "\n",
    "$$f({ x }_{ 5 })-f({ x }_{ 4 })-bh=0$$"
   ]
  },
  {
   "cell_type": "markdown",
   "metadata": {
    "collapsed": true
   },
   "source": [
    "__Ejercicio 4 (indexación)__. `Julia` es más eficiente\n",
    "si se utiliza un único índice para acceder a los elementos\n",
    "de una matriz, además que puede simplificar algunos problemas. Escribe una función $\\phi$ que traduzca un par de\n",
    "índices $i,j$ a un único índice $k$, es decir:\n",
    "$$\\phi: (i,j) \\mapsto k.$$\n",
    "También encuentren $\\phi^{-1}$. Note que $\\phi$ deberá depender de las dimensiones del arreglo, por lo menos de una de ellas."
   ]
  },
  {
   "cell_type": "markdown",
   "metadata": {},
   "source": [
    "#### Procedimiento"
   ]
  },
  {
   "cell_type": "markdown",
   "metadata": {},
   "source": [
    "Sea una matriz $A_{nxm}$ como debemos hallar una función $\\phi$ que traduzca un par de\n",
    "índices $i,j$ a un único índice $k$, es decir:\n",
    "$$\\phi: (i,j) \\mapsto k.$$\n",
    "proponemos a la función $\\phi$ de la siguiente manera\n",
    "$$\\phi=(i-1)m + j = k  $$\n",
    "$$Ecuación (1)$$\n",
    "\n",
    "Como también debemos encontrar su función inversa $\\phi^{-1}:k \\mapsto (i,j)$ necesitamos poner a $i$, en términos de $m$ y $k$.  \n",
    "\n",
    "Si tomamos a $i=1$, el mínimos para $j$ tendrá que ser $i$ pero si ponemos  $i=n$ el máixmo para $j$ va a ser $m$. Entonces $k$ va a poder tomar valores entre $k=(i-1)m+1$ e $k=im$. \n",
    "\n",
    "Entonces $$i=\\frac{k}{m}$$ \n",
    "\n",
    "Sustituyendo en (1) tendríamos $$\\phi=(\\frac{k}{m}-1)m+j=k$$\n",
    "\n",
    "Si de nuestra función $\\phi$ despejamos $j$ obtendremos\n",
    "\n",
    "$$j=k-(\\frac{k}{m}-1)m$$\n",
    "\n",
    "Dada la función inversa $\\phi^{-1}:k \\mapsto (i,j)$\n",
    "$$\\phi^{-1}=(\\frac{k}{m},k-(\\frac{k}{m}-1)m)$$"
   ]
  },
  {
   "cell_type": "code",
   "execution_count": 1,
   "metadata": {
    "collapsed": true
   },
   "outputs": [],
   "source": [
    "function phi_K(i,j,n)\n",
    "    k=((i-1)*m)+j\n",
    "    return k\n",
    "end\n",
    ";"
   ]
  },
  {
   "cell_type": "code",
   "execution_count": 2,
   "metadata": {},
   "outputs": [
    {
     "data": {
      "text/plain": [
       "2×2 Array{Int64,2}:\n",
       " 10   2\n",
       " 23  74"
      ]
     },
     "execution_count": 2,
     "metadata": {},
     "output_type": "execute_result"
    }
   ],
   "source": [
    "#Creamos una matriz, para probar nuestra función\n",
    "A=[10 2 ; 23 74]"
   ]
  },
  {
   "cell_type": "code",
   "execution_count": 3,
   "metadata": {},
   "outputs": [
    {
     "data": {
      "text/plain": [
       "2"
      ]
     },
     "execution_count": 3,
     "metadata": {},
     "output_type": "execute_result"
    }
   ],
   "source": [
    "l = size(A,1)\n",
    "m = size(A,2)"
   ]
  },
  {
   "cell_type": "code",
   "execution_count": 4,
   "metadata": {},
   "outputs": [
    {
     "name": "stdout",
     "output_type": "stream",
     "text": [
      "Indices i=1 Indices j=1 único valor k=1\n",
      "Indices i=1 Indices j=2 único valor k=2\n",
      "Indices i=2 Indices j=1 único valor k=3\n",
      "Indices i=2 Indices j=2 único valor k=4\n"
     ]
    }
   ],
   "source": [
    "for i in 1:l\n",
    "    for j in 1:m\n",
    "        println(\"Indices i=\", i, \" Indices j=\", j, \" único valor k=\",phi_K(i,j,m))\n",
    "    end\n",
    "end\n",
    ";"
   ]
  },
  {
   "cell_type": "code",
   "execution_count": 5,
   "metadata": {},
   "outputs": [
    {
     "data": {
      "text/plain": [
       "phi_inversa (generic function with 1 method)"
      ]
     },
     "execution_count": 5,
     "metadata": {},
     "output_type": "execute_result"
    }
   ],
   "source": [
    "#Función inveresa phi\n",
    "function phi_inversa(m,índice)\n",
    "    if (índice%m!=0)\n",
    "        j = índice%m\n",
    "    else\n",
    "        j = m\n",
    "    end\n",
    "    i = (índice-j+m)/m\n",
    "    return [i,j]\n",
    "end"
   ]
  },
  {
   "cell_type": "code",
   "execution_count": 6,
   "metadata": {},
   "outputs": [
    {
     "name": "stdout",
     "output_type": "stream",
     "text": [
      "El elemento k=1 viene de i=1.0 y j=1.0\n",
      "El elemento k=2 viene de i=1.0 y j=2.0\n",
      "El elemento k=3 viene de i=2.0 y j=1.0\n",
      "El elemento k=4 viene de i=2.0 y j=2.0\n"
     ]
    }
   ],
   "source": [
    "B = [1 2 3 4]\n",
    "\n",
    "for elemento in B\n",
    "    inverso = phi_inversa(m,elemento)\n",
    "   println(\"El elemento k=\", elemento, \" viene de i=\", inverso[1], \" y j=\", inverso[2])\n",
    "end"
   ]
  }
 ],
 "metadata": {
  "kernelspec": {
   "display_name": "Julia 0.6.0",
   "language": "julia",
   "name": "julia-0.6"
  },
  "language_info": {
   "file_extension": ".jl",
   "mimetype": "application/julia",
   "name": "julia",
   "version": "0.6.0"
  }
 },
 "nbformat": 4,
 "nbformat_minor": 2
}
