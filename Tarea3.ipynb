{
 "cells": [
  {
   "cell_type": "markdown",
   "metadata": {},
   "source": [
    "> # Método de Newton, usando ciclo while\n"
   ]
  },
  {
   "cell_type": "code",
   "execution_count": null,
   "metadata": {},
   "outputs": [],
   "source": [
    "function New(A,B) #A-condición inicial, B-error\n",
    "    D=10.0\n",
    "    f(x)=x*tan(x)-sqrt(complex(D-x^2))#función\n",
    "    g(x)=(x*sec(x)*sec(x))+tan(x)+x*(1/(sqrt(complex(D-x^2))))  #derivada\n",
    "    while B<=1\n",
    "        r=A-(f(A)/g(A)) #primera aproximación\n",
    "        B=abs((A-r)/(r)) #error relativo\n",
    "        A=r               #re-definiendo A\n",
    "        return(r,f(r))\n",
    "    end\n",
    "end"
   ]
  },
  {
   "cell_type": "code",
   "execution_count": null,
   "metadata": {},
   "outputs": [],
   "source": []
  },
  {
   "cell_type": "markdown",
   "metadata": {
    "collapsed": true
   },
   "source": []
  }
 ],
 "metadata": {
  "kernelspec": {
   "display_name": "Julia 0.6.0",
   "language": "julia",
   "name": "julia-0.6"
  },
  "language_info": {
   "file_extension": ".jl",
   "mimetype": "application/julia",
   "name": "julia",
   "version": "0.6.0"
  }
 },
 "nbformat": 4,
 "nbformat_minor": 2
}
