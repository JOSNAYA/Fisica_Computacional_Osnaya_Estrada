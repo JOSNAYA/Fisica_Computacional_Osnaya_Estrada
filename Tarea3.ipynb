{
 "cells": [
  {
   "cell_type": "markdown",
   "metadata": {},
   "source": [
    "> # Método de Newton, usando ciclo while\n"
   ]
  },
  {
   "cell_type": "code",
   "execution_count": 1,
   "metadata": {},
   "outputs": [
    {
     "data": {
      "text/plain": [
       "Newt (generic function with 1 method)"
      ]
     },
     "execution_count": 1,
     "metadata": {},
     "output_type": "execute_result"
    }
   ],
   "source": [
    "function Newt(A,B,C,D) #A-condicion inicial, B-tolerancia o error, C-número de iteraciones, D-constante\n",
    "    f(x)=x*tan(x)-sqrt(complex(D-x^2))#función\n",
    "    g(x)=(x*sec(x)*sec(x))+tan(x)+x*(1/(sqrt(complex(D-x^2))))  #derivada\n",
    "    i=1\n",
    "while i <= C\n",
    "    r=A-(f(A)/g(A))\n",
    "    if abs(r-A)<B\n",
    "            return(r, f(r))\n",
    "        else\n",
    "            i=i+1 #volvemos a definir i, sumándole 1\n",
    "            A=r #se define A como el valor anterior, r\n",
    "       end\n",
    "    end\n",
    "end\n"
   ]
  },
  {
   "cell_type": "code",
   "execution_count": 4,
   "metadata": {},
   "outputs": [
    {
     "data": {
      "text/plain": [
       "(3.161642095039804 + 9.815632242763297e-11im, -3.515365318285113e-9 + 5.20748546641597e-9im)"
      ]
     },
     "execution_count": 4,
     "metadata": {},
     "output_type": "execute_result"
    }
   ],
   "source": [
    "Newt(3.1,0.00001,20,10)"
   ]
  },
  {
   "cell_type": "code",
   "execution_count": null,
   "metadata": {
    "collapsed": true
   },
   "outputs": [],
   "source": []
  }
 ],
 "metadata": {
  "kernelspec": {
   "display_name": "Julia 0.6.0",
   "language": "julia",
   "name": "julia-0.6"
  },
  "language_info": {
   "file_extension": ".jl",
   "mimetype": "application/julia",
   "name": "julia",
   "version": "0.6.0"
  }
 },
 "nbformat": 4,
 "nbformat_minor": 2
}
